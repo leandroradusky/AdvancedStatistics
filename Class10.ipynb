{
 "cells": [
  {
   "cell_type": "code",
   "execution_count": 50,
   "metadata": {},
   "outputs": [],
   "source": [
    "%matplotlib inline\n",
    "from sklearn.ensemble import RandomForestClassifier, RandomForestRegressor\n",
    "from sklearn.tree import DecisionTreeClassifier\n",
    "from sklearn.ensemble import StackingClassifier\n",
    "from sklearn.naive_bayes import GaussianNB\n",
    "from sklearn.feature_selection import SelectFromModel\n",
    "\n",
    "\n",
    "import pandas as pd\n",
    "import random\n",
    "import numpy as np\n",
    "\n",
    "import matplotlib.pyplot as plt\n",
    "import seaborn as sns\n",
    "from scipy import stats"
   ]
  },
  {
   "cell_type": "markdown",
   "metadata": {},
   "source": [
    "# Random Forest Regressor\n",
    "\n",
    "## Prediction"
   ]
  },
  {
   "cell_type": "code",
   "execution_count": 243,
   "metadata": {},
   "outputs": [],
   "source": [
    "X = np.linspace(0,100)\n",
    "Y = [x**2 + stats.norm.rvs()*10*x for x in X]\n"
   ]
  },
  {
   "cell_type": "code",
   "execution_count": 244,
   "metadata": {},
   "outputs": [
    {
     "name": "stderr",
     "output_type": "stream",
     "text": [
      "/usr/local/lib/python3.5/dist-packages/ipykernel_launcher.py:5: DataConversionWarning: A column-vector y was passed when a 1d array was expected. Please change the shape of y to (n_samples,), for example using ravel().\n",
      "  \"\"\"\n"
     ]
    },
    {
     "data": {
      "text/plain": [
       "RandomForestRegressor(bootstrap=True, ccp_alpha=0.0, criterion='mse',\n",
       "                      max_depth=None, max_features='auto', max_leaf_nodes=None,\n",
       "                      max_samples=None, min_impurity_decrease=0.0,\n",
       "                      min_impurity_split=None, min_samples_leaf=1,\n",
       "                      min_samples_split=2, min_weight_fraction_leaf=0.0,\n",
       "                      n_estimators=100, n_jobs=None, oob_score=False,\n",
       "                      random_state=None, verbose=0, warm_start=False)"
      ]
     },
     "execution_count": 244,
     "metadata": {},
     "output_type": "execute_result"
    }
   ],
   "source": [
    "# create regressor object \n",
    "regressor = RandomForestRegressor(n_estimators = 100) \n",
    "  \n",
    "# fit the regressor with x and y data \n",
    "regressor.fit([[x] for x in X], [[y] for y in Y]) "
   ]
  },
  {
   "cell_type": "code",
   "execution_count": null,
   "metadata": {},
   "outputs": [],
   "source": []
  },
  {
   "cell_type": "code",
   "execution_count": 306,
   "metadata": {},
   "outputs": [],
   "source": [
    "Y_pred = [regressor.predict([[x]]) for x in X]\n",
    "Y_pred = [p[0] for p in Y_pred]"
   ]
  },
  {
   "cell_type": "code",
   "execution_count": 307,
   "metadata": {},
   "outputs": [
    {
     "data": {
      "image/png": "[encoded data removed]",
      "text/plain": [
       "<Figure size 432x288 with 1 Axes>"
      ]
     },
     "metadata": {},
     "output_type": "display_data"
    }
   ],
   "source": [
    "  \n",
    "plt.scatter(X, Y, color = 'blue')   \n",
    "  \n",
    "# plot predicted data \n",
    "plt.plot(X, Y_pred,  \n",
    "         color = 'green')  \n",
    "plt.title('Random Forest Regression') \n",
    "plt.show()"
   ]
  },
  {
   "cell_type": "code",
   "execution_count": null,
   "metadata": {},
   "outputs": [],
   "source": []
  },
  {
   "cell_type": "markdown",
   "metadata": {},
   "source": [
    "## Imputing Missing Values"
   ]
  },
  {
   "cell_type": "markdown",
   "metadata": {},
   "source": [
    "#### We load omics data ( in this case stolen from https://www.ncbi.nlm.nih.gov/pubmed/26004780 )"
   ]
  },
  {
   "cell_type": "code",
   "execution_count": 249,
   "metadata": {},
   "outputs": [
    {
     "name": "stdout",
     "output_type": "stream",
     "text": [
      "(37315, 96)\n"
     ]
    }
   ],
   "source": [
    "df = pd.read_csv(\"data/scRNAseq.tsv\", sep=\"\\t\", index_col=0, header=0)\n",
    "print (df.shape)"
   ]
  },
  {
   "cell_type": "code",
   "execution_count": 250,
   "metadata": {},
   "outputs": [
    {
     "name": "stdout",
     "output_type": "stream",
     "text": [
      "(7748, 96)\n"
     ]
    }
   ],
   "source": [
    "# To those genes that are almost always zero we exclude them\n",
    "df = df[df.eq(0).sum(1)<66]\n",
    "print (df.shape)"
   ]
  },
  {
   "cell_type": "code",
   "execution_count": 251,
   "metadata": {},
   "outputs": [],
   "source": [
    "# We will try to impute zeros for one specific gene: Xpo6 (choosen randomly by me)\n",
    "corr_matrix = df.T.corr()"
   ]
  },
  {
   "cell_type": "code",
   "execution_count": 308,
   "metadata": {},
   "outputs": [
    {
     "data": {
      "text/plain": [
       "(7748, 7748)"
      ]
     },
     "execution_count": 308,
     "metadata": {},
     "output_type": "execute_result"
    }
   ],
   "source": [
    "corr_matrix.shape"
   ]
  },
  {
   "cell_type": "code",
   "execution_count": 252,
   "metadata": {},
   "outputs": [
    {
     "name": "stdout",
     "output_type": "stream",
     "text": [
      "240\n"
     ]
    }
   ],
   "source": [
    "# I will select as independent those with abs(corr) < 0.2\n",
    "dependent = []\n",
    "for gene,value in (abs(corr_matrix.loc[\"Xpo6\"]) > 0.2).iteritems():\n",
    "    if value == True:\n",
    "        dependent.append(gene)\n",
    "        \n",
    "print (len(dependent))"
   ]
  },
  {
   "cell_type": "code",
   "execution_count": 298,
   "metadata": {},
   "outputs": [
    {
     "name": "stdout",
     "output_type": "stream",
     "text": [
      "[38.864   9.7652  9.0046 13.1967  0.289   6.9244 12.6035  0.6592  9.846\n",
      " 12.7469 13.8914  5.8632 21.5285 13.8219  7.5533  2.6788  4.168  24.889\n",
      "  5.1174  3.2027 18.9847  1.8903  4.3478  6.2967  0.302  30.6018  9.0152\n",
      "  2.6201 11.5311  6.3426]\n",
      "(0.5182514249392545, 0.0033491693865631044)\n"
     ]
    }
   ],
   "source": [
    "# First, which are the genes that are not independent of this one? (aka the ones that will help us to impute values)\n",
    "\n",
    "indices = np.random.permutation(df.shape[1])\n",
    "cut = 66 # cells for training, 30 for testing, manually stablished\n",
    "\n",
    "#split the random permutation into two parts\n",
    "training_idx, test_idx = indices[:cut], indices[cut:]\n",
    "\n",
    "#Training and test sets to two separated matrices\n",
    "training, test = df.loc[dependent].iloc[:,training_idx], df.loc[dependent].iloc[:,test_idx]\n",
    "\n",
    "#Assumed you have, X (predictor) and Y (target) for training data set and x_test(predictor) of test_dataset\n",
    "#Create tree object\n",
    "model = RandomForestRegressor(n_jobs=100)\n",
    "\n",
    "# Of the training set, we cut out the dependent genes\n",
    "tmp = df.loc[dependent,:]\n",
    "y = tmp.iloc[training_idx]\n",
    "\n",
    "# SelectFromModel is a transforming class that allow us to pick the most \n",
    "# important features (in this case, those genes that are important to predict our gene)\n",
    "sfm = SelectFromModel(model)\n",
    "# Fit is always to accomodate the data, in this case just considering the most important features\n",
    "# We are transposing, because in this case we are taking as features the genes and not the cells!!\n",
    "sfm.fit(training.T, y)\n",
    "# This returns true or false just and then select the important genes in features_idx\n",
    "feature_idx = sfm.get_support(indices=True)\n",
    "\n",
    "model = RandomForestRegressor(oob_score = True, n_jobs = 100) #n_estimators = 100\n",
    "\n",
    "#Train the model using the training sets\n",
    "model.fit(training.iloc[feature_idx].T, y.iloc[:,training_idx].T[\"Xpo6\"])\n",
    "\n",
    "#Predict Output for our gene\n",
    "predicted= model.predict(test.iloc[feature_idx].T)\n",
    "\n",
    "print(predicted)\n",
    "print (stats.pearsonr(predicted, test.loc[\"Xpo6\"] ))"
   ]
  },
  {
   "cell_type": "markdown",
   "metadata": {},
   "source": [
    "### Some dimensionalities to look at"
   ]
  },
  {
   "cell_type": "code",
   "execution_count": 288,
   "metadata": {},
   "outputs": [
    {
     "data": {
      "text/plain": [
       "((48, 66), (66,))"
      ]
     },
     "execution_count": 288,
     "metadata": {},
     "output_type": "execute_result"
    }
   ],
   "source": [
    "df.loc[dependent].iloc[:,training_idx].iloc[feature_idx].shape, y.iloc[:,training_idx].T[\"Xpo6\"].shape"
   ]
  },
  {
   "cell_type": "markdown",
   "metadata": {},
   "source": [
    "### Plot original values vs imputed ones\n",
    "#### We have good correlation for those values that were non-zero, and a lot of zero values we have fullfiled them.\n"
   ]
  },
  {
   "cell_type": "code",
   "execution_count": 305,
   "metadata": {},
   "outputs": [
    {
     "data": {
      "text/plain": [
       "[<matplotlib.lines.Line2D at 0x7f768fcb68d0>]"
      ]
     },
     "execution_count": 305,
     "metadata": {},
     "output_type": "execute_result"
    },
    {
     "data": {
      "image/png": "[encoded data removed]",
      "text/plain": [
       "<Figure size 432x288 with 1 Axes>"
      ]
     },
     "metadata": {},
     "output_type": "display_data"
    }
   ],
   "source": [
    "fig,ax = plt.subplots(1)\n",
    "ax.set_xlabel(\"Test set values\")\n",
    "ax.set_ylabel(\"Predicted values\")\n",
    "plt.plot(test.loc[\"Xpo6\"],predicted, \"o\")"
   ]
  },
  {
   "cell_type": "markdown",
   "metadata": {},
   "source": [
    "# Ensemble of Classifiers"
   ]
  },
  {
   "cell_type": "code",
   "execution_count": 13,
   "metadata": {},
   "outputs": [
    {
     "name": "stdout",
     "output_type": "stream",
     "text": [
      "(4000, 16)\n"
     ]
    },
    {
     "data": {
      "text/plain": [
       "(1000, 16)"
      ]
     },
     "execution_count": 13,
     "metadata": {},
     "output_type": "execute_result"
    }
   ],
   "source": [
    "df = pd.read_csv(\"data/airbnb.csv\", sep=\",\", header=0)\n",
    "\n",
    "training_df = df.loc[random.sample(list(df.index), 4000)]\n",
    "print(training_df.shape)\n",
    "\n",
    "predict_df = df.loc[random.sample(list(df.index), 1000)]\n",
    "predict_df.shape"
   ]
  },
  {
   "cell_type": "code",
   "execution_count": 14,
   "metadata": {},
   "outputs": [],
   "source": [
    "estimators = [ ('rf', RandomForestClassifier(n_estimators=100)), \\\n",
    "               ('svr', DecisionTreeClassifier()), \\\n",
    "               ('nbc', GaussianNB())]\n",
    "\n",
    "clf = StackingClassifier(estimators=estimators, final_estimator=RandomForestClassifier(n_estimators=100) )\n"
   ]
  },
  {
   "cell_type": "code",
   "execution_count": 16,
   "metadata": {},
   "outputs": [
    {
     "name": "stderr",
     "output_type": "stream",
     "text": [
      "/usr/local/lib/python3.5/dist-packages/sklearn/preprocessing/_label.py:235: DataConversionWarning: A column-vector y was passed when a 1d array was expected. Please change the shape of y to (n_samples, ), for example using ravel().\n",
      "  y = column_or_1d(y, warn=True)\n",
      "/usr/local/lib/python3.5/dist-packages/sklearn/preprocessing/_label.py:268: DataConversionWarning: A column-vector y was passed when a 1d array was expected. Please change the shape of y to (n_samples, ), for example using ravel().\n",
      "  y = column_or_1d(y, warn=True)\n"
     ]
    },
    {
     "data": {
      "text/plain": [
       "0.982"
      ]
     },
     "execution_count": 16,
     "metadata": {},
     "output_type": "execute_result"
    }
   ],
   "source": [
    "training_features = training_df[[\"latitude\",\"longitude\"]]\n",
    "training_labels = training_df[[\"neighbourhood_group\"]]\n",
    "\n",
    "to_predict_features = predict_df[[\"latitude\",\"longitude\"]]\n",
    "to_predict_labels = predict_df[[\"neighbourhood_group\"]]\n",
    "\n",
    "clf.fit(training_features, training_labels).score(to_predict_features, to_predict_labels)"
   ]
  },
  {
   "cell_type": "code",
   "execution_count": null,
   "metadata": {},
   "outputs": [],
   "source": []
  }
 ],
 "metadata": {
  "kernelspec": {
   "display_name": "Python 3",
   "language": "python",
   "name": "python3"
  },
  "language_info": {
   "codemirror_mode": {
    "name": "ipython",
    "version": 3
   },
   "file_extension": ".py",
   "mimetype": "text/x-python",
   "name": "python",
   "nbconvert_exporter": "python",
   "pygments_lexer": "ipython3",
   "version": "3.5.2"
  }
 },
 "nbformat": 4,
 "nbformat_minor": 2
}
