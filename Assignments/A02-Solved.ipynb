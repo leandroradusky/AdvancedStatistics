{
 "cells": [
  {
   "cell_type": "code",
   "execution_count": null,
   "metadata": {},
   "outputs": [],
   "source": []
  },
  {
   "cell_type": "code",
   "execution_count": 196,
   "metadata": {},
   "outputs": [],
   "source": [
    "%matplotlib inline\n",
    "import seaborn as sns\n",
    "import numpy as np\n",
    "import pandas as pd\n",
    "import matplotlib.pyplot as plt \n",
    "from scipy.stats import norm, uniform"
   ]
  },
  {
   "cell_type": "code",
   "execution_count": 197,
   "metadata": {},
   "outputs": [],
   "source": [
    "mydata = pd.read_csv(\"../data/diet_and_atp.tsv\", sep=\"\\t\", header=0)"
   ]
  },
  {
   "cell_type": "code",
   "execution_count": 198,
   "metadata": {},
   "outputs": [],
   "source": [
    "initial_guess_prot = standing_at_prot = 1\n",
    "initial_guess_carbo = standing_at_carbo = 1\n",
    "initial_guess_fat = standing_at_fat = 1\n",
    "\n",
    "std_prot = mydata.Protein.std()\n",
    "std_carbo = mydata.Carbohydrates.std()\n",
    "std_fat = mydata.Fat.std()\n",
    "std_atp = mydata.ATP.std()"
   ]
  },
  {
   "cell_type": "code",
   "execution_count": 199,
   "metadata": {},
   "outputs": [
    {
     "name": "stdout",
     "output_type": "stream",
     "text": [
      "2.2782213675286314\n"
     ]
    }
   ],
   "source": [
    "print (std_atp)"
   ]
  },
  {
   "cell_type": "code",
   "execution_count": 200,
   "metadata": {},
   "outputs": [],
   "source": [
    "def p_step(prot, carbo, fat):\n",
    "    \n",
    "    good = 0.0\n",
    "    all = 0.0\n",
    "    \n",
    "    for i, r in mydata.iterrows():\n",
    "        \n",
    "        eq = r.Protein * prot + r.Carbohydrates * carbo + r.Fat * fat \n",
    "        \n",
    "        if eq > r.ATP - std_atp/5 and eq < r.ATP + std_atp/5:\n",
    "            good+=1\n",
    "        \n",
    "        all +=1\n",
    "    \n",
    "    return good / all"
   ]
  },
  {
   "cell_type": "code",
   "execution_count": 201,
   "metadata": {},
   "outputs": [],
   "source": [
    "# I want to obtain the posterior distribution of my samples\n",
    "\n",
    "iterations = 50000\n",
    "all_my_steps = [] # Just a record of what step I made each time \n",
    "all_my_standings = [] # Here I will record my posterior distribution,\n",
    "\n",
    "for i in range(iterations):\n",
    "    # I will move randomly, forward or backwards in each dimension, at a maximun distance of 0.5\n",
    "    step_prot = (uniform(0,1).rvs() - 0.5) / 10\n",
    "    step_carbo = (uniform(0,1).rvs() - 0.5)  / 10\n",
    "    step_fat = (uniform(0,1).rvs() - 0.5)  / 10\n",
    "    \n",
    "    # The step that I will decide if I accept it or not\n",
    "    candidate_prot = standing_at_prot + step_prot if standing_at_prot + step_prot > 0 else standing_at_prot - step_prot  \n",
    "    candidate_carbo = standing_at_carbo + step_carbo if standing_at_carbo + step_carbo > 0 else standing_at_carbo - step_carbo  \n",
    "    candidate_fat = standing_at_fat + step_fat if standing_at_fat + step_fat > 0 else standing_at_fat - step_fat  \n",
    "    \n",
    "    p_actual_step = p_step(standing_at_prot, standing_at_carbo, standing_at_fat)\n",
    "    p_candidate_step = p_step(candidate_prot, candidate_carbo, candidate_fat)\n",
    "    \n",
    "    # If the new step is better, I always accept\n",
    "    if p_candidate_step > p_actual_step:\n",
    "        standing_at_prot = candidate_prot \n",
    "        standing_at_carbo = candidate_carbo\n",
    "        standing_at_fat = candidate_fat \n",
    "    else:\n",
    "        # If not, I accept it randomly\n",
    "        random_number = uniform(0,1).rvs()\n",
    "        if random_number <= p_candidate_step / p_actual_step:\n",
    "            standing_at_prot = candidate_prot \n",
    "            standing_at_carbo = candidate_carbo\n",
    "            standing_at_fat = candidate_fat \n",
    "\n",
    "    # I record my step and where I'm standing\n",
    "    all_my_standings.append( ( standing_at_prot, standing_at_carbo, standing_at_fat) )\n",
    "    all_my_steps.append( (step_prot, step_carbo, step_fat) )"
   ]
  },
  {
   "cell_type": "code",
   "execution_count": 202,
   "metadata": {},
   "outputs": [
    {
     "name": "stdout",
     "output_type": "stream",
     "text": [
      "1.579526198400699\n",
      "1.3318536434682045\n",
      "4.237104891453103\n"
     ]
    }
   ],
   "source": [
    "all_my_standings_prot = [a[0] for a in all_my_standings]\n",
    "all_my_standings_carbo = [a[1] for a in all_my_standings]\n",
    "all_my_standings_fat = [a[2] for a in all_my_standings]\n",
    "\n",
    "print (np.mean(all_my_standings_prot))\n",
    "print (np.mean(all_my_standings_carbo))\n",
    "print (np.mean(all_my_standings_fat))"
   ]
  },
  {
   "cell_type": "code",
   "execution_count": 203,
   "metadata": {},
   "outputs": [
    {
     "name": "stderr",
     "output_type": "stream",
     "text": [
      "/usr/local/lib/python3.5/dist-packages/scipy/stats/stats.py:1633: FutureWarning: Using a non-tuple sequence for multidimensional indexing is deprecated; use `arr[tuple(seq)]` instead of `arr[seq]`. In the future this will be interpreted as an array index, `arr[np.array(seq)]`, which will result either in an error or a different result.\n",
      "  return np.add.reduce(sorted[indexer] * weights, axis=axis) / sumval\n",
      "/usr/local/lib/python3.5/dist-packages/matplotlib/axes/_axes.py:6462: UserWarning: The 'normed' kwarg is deprecated, and has been replaced by the 'density' kwarg.\n",
      "  warnings.warn(\"The 'normed' kwarg is deprecated, and has been \"\n",
      "/usr/local/lib/python3.5/dist-packages/matplotlib/axes/_axes.py:6462: UserWarning: The 'normed' kwarg is deprecated, and has been replaced by the 'density' kwarg.\n",
      "  warnings.warn(\"The 'normed' kwarg is deprecated, and has been \"\n",
      "/usr/local/lib/python3.5/dist-packages/matplotlib/axes/_axes.py:6462: UserWarning: The 'normed' kwarg is deprecated, and has been replaced by the 'density' kwarg.\n",
      "  warnings.warn(\"The 'normed' kwarg is deprecated, and has been \"\n"
     ]
    },
    {
     "data": {
      "text/plain": [
       "<matplotlib.legend.Legend at 0x7f45b9414b70>"
      ]
     },
     "execution_count": 203,
     "metadata": {},
     "output_type": "execute_result"
    },
    {
     "data": {
      "image/png": "[encoded data removed]",
      "text/plain": [
       "<Figure size 864x864 with 1 Axes>"
      ]
     },
     "metadata": {},
     "output_type": "display_data"
    }
   ],
   "source": [
    "# If I plot all my standings, I will have the likelihood function of the mean of the data \n",
    "# (the parameter of the model that I'm inferring)\n",
    "fig=plt.figure(figsize=(12, 12))\n",
    "sns.distplot(all_my_standings_prot, kde=False, label=\"prot\" , norm_hist=True)\n",
    "sns.distplot(all_my_standings_carbo, kde=False, label=\"carbo\" , norm_hist=True)\n",
    "sns.distplot(all_my_standings_fat, kde=False, label=\"fat\" , norm_hist=True)\n",
    "# And I compare them with the original samples\n",
    "plt.legend()\n",
    "#sns.distplot(all_my_steps, kde=False)"
   ]
  },
  {
   "cell_type": "code",
   "execution_count": 204,
   "metadata": {},
   "outputs": [
    {
     "data": {
      "text/plain": [
       "[<matplotlib.lines.Line2D at 0x7f45b96ed9b0>]"
      ]
     },
     "execution_count": 204,
     "metadata": {},
     "output_type": "execute_result"
    },
    {
     "data": {
      "image/png": "[encoded data removed]",
      "text/plain": [
       "<Figure size 432x288 with 1 Axes>"
      ]
     },
     "metadata": {},
     "output_type": "display_data"
    }
   ],
   "source": [
    "all_steps_prot = [a[0] for a in all_my_steps]\n",
    "all_steps_carbo = [a[1] for a in all_my_steps]\n",
    "all_steps_fat = [a[2] for a in all_my_steps]\n",
    "\n",
    "plt.plot(all_my_standings_prot, color=\"red\")\n",
    "plt.plot(all_my_standings_carbo, color=\"green\")\n",
    "plt.plot(all_my_standings_fat, color=\"blue\")"
   ]
  },
  {
   "cell_type": "code",
   "execution_count": null,
   "metadata": {},
   "outputs": [],
   "source": []
  },
  {
   "cell_type": "code",
   "execution_count": null,
   "metadata": {},
   "outputs": [],
   "source": []
  },
  {
   "cell_type": "code",
   "execution_count": null,
   "metadata": {},
   "outputs": [],
   "source": []
  },
  {
   "cell_type": "code",
   "execution_count": null,
   "metadata": {},
   "outputs": [],
   "source": []
  }
 ],
 "metadata": {
  "kernelspec": {
   "display_name": "Python 3",
   "language": "python",
   "name": "python3"
  },
  "language_info": {
   "codemirror_mode": {
    "name": "ipython",
    "version": 3
   },
   "file_extension": ".py",
   "mimetype": "text/x-python",
   "name": "python",
   "nbconvert_exporter": "python",
   "pygments_lexer": "ipython3",
   "version": "3.5.2"
  }
 },
 "nbformat": 4,
 "nbformat_minor": 2
}
