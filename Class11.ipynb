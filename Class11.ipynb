{
 "cells": [
  {
   "cell_type": "code",
   "execution_count": 26,
   "metadata": {},
   "outputs": [],
   "source": [
    "states = [\"Happy\", \"Sad\"]\n",
    "end_state = 'death'\n",
    "death_p = 1 / (365*80)\n",
    "\n",
    "start_probability = {\"Happy\": 0.6, \"Sad\": 0.4}\n",
    " \n",
    "transition_probability = {\n",
    "   \"Happy\" : {\"Happy\": 0.7, \"Sad\": 0.3-death_p, 'death': death_p},\n",
    "   \"Sad\" : {\"Happy\": 0.5, \"Sad\": 0.5-death_p, 'death': death_p},\n",
    "   }\n",
    " \n",
    "emission_probability = {\n",
    "   \"Happy\" : {\"smile\": 0.7, \"serious\": 0.25, \"tears\": 0.05},\n",
    "   \"Sad\" : {\"smile\": 0.1, \"serious\": 0.3, \"tears\": 0.6},\n",
    "   }"
   ]
  },
  {
   "cell_type": "code",
   "execution_count": 38,
   "metadata": {},
   "outputs": [],
   "source": [
    "def fwd_bkw(observations, states, start_prob, trans_prob, emm_prob, end_st):\n",
    "    # Forward part of the algorithm\n",
    "    fwd = [] # The ALPHAS in the slides\n",
    "    f_prev = {}\n",
    "    for i, observation_i in enumerate(observations):\n",
    "        f_curr = {}\n",
    "        for st in states:\n",
    "            if i == 0:\n",
    "                # If we are in the first observation is the base case we go to the starting probabilities\n",
    "                prev_f_sum = start_prob[st]\n",
    "            else:\n",
    "                # Otherwise is just the sum seen in the slides\n",
    "                prev_f_sum = sum(f_prev[k]*trans_prob[k][st] for k in states)\n",
    "                \n",
    "            # We always multiply by the emission probabilities\n",
    "            f_curr[st] = emm_prob[st][observation_i] * prev_f_sum\n",
    "        \n",
    "        # And we store all the values in a list (to use them \"recursively\")\n",
    "        fwd.append(f_curr)\n",
    "        f_prev = f_curr\n",
    "\n",
    "    p_fwd = sum(f_curr[k] * trans_prob[k][end_st] for k in states)\n",
    "\n",
    "    # Backward part of the algorithm\n",
    "    bkw = [] # The BETAS in the slides\n",
    "    b_prev = {}\n",
    "    for i, observation_i_plus in enumerate(reversed(observations[1:]+[None,])):\n",
    "        b_curr = {}\n",
    "        for st in states:\n",
    "            if i == 0:\n",
    "                # base case for backward part\n",
    "                b_curr[st] = trans_prob[st][end_st]\n",
    "            else:\n",
    "                b_curr[st] = sum(trans_prob[st][l] * emm_prob[l][observation_i_plus] * b_prev[l] for l in states)\n",
    "\n",
    "        bkw.insert(0,b_curr)\n",
    "        b_prev = b_curr\n",
    "\n",
    "    p_bkw = sum(start_prob[l] * emm_prob[l][observations[0]] * b_curr[l] for l in states)\n",
    "\n",
    "    # Merging the two parts\n",
    "    posterior = []\n",
    "    for i in range(len(observations)):\n",
    "        posterior.append({st: fwd[i][st] * bkw[i][st] / p_fwd for st in states})\n",
    "    \n",
    "    return posterior"
   ]
  },
  {
   "cell_type": "code",
   "execution_count": 44,
   "metadata": {},
   "outputs": [
    {
     "name": "stdout",
     "output_type": "stream",
     "text": [
      "At step 0 this are the probabilities of being in each step {'Happy': 0.9027711020617021, 'Sad': 0.0972288979382981}\n",
      "At step 1 this are the probabilities of being in each step {'Happy': 0.5424856068454804, 'Sad': 0.4575143931545196}\n",
      "At step 2 this are the probabilities of being in each step {'Happy': 0.12351569140927171, 'Sad': 0.8764843085907283}\n"
     ]
    }
   ],
   "source": [
    "observations = [\"smile\", \"serious\", \"tears\"]\n",
    "\n",
    "posteriors = fwd_bkw(observations,\n",
    "                   states,\n",
    "                   start_probability,\n",
    "                   transition_probability,\n",
    "                   emission_probability,\n",
    "                   end_state)\n",
    "\n",
    "for i,p in enumerate(posteriors):\n",
    "    print (\"At step\", i, \"this are the probabilities of being in each step\", p)"
   ]
  },
  {
   "cell_type": "code",
   "execution_count": 46,
   "metadata": {},
   "outputs": [
    {
     "name": "stdout",
     "output_type": "stream",
     "text": [
      "At step 0 the person is smile and these s are the probabilities of being in mental state {'Happy': 0.9032548915725614, 'Sad': 0.09674510842743858}\n",
      "At step 1 the person is serious and these s are the probabilities of being in mental state {'Happy': 0.549085967776482, 'Sad': 0.45091403222351806}\n",
      "At step 2 the person is tears and these s are the probabilities of being in mental state {'Happy': 0.157039817043986, 'Sad': 0.8429601829560142}\n",
      "At step 3 the person is smile and these s are the probabilities of being in mental state {'Happy': 0.9108420644755258, 'Sad': 0.08915793552447425}\n",
      "At step 4 the person is smile and these s are the probabilities of being in mental state {'Happy': 0.9509518385208339, 'Sad': 0.049048161479166366}\n",
      "At step 5 the person is smile and these s are the probabilities of being in mental state {'Happy': 0.9523773514123793, 'Sad': 0.04762264858762087}\n",
      "At step 6 the person is smile and these s are the probabilities of being in mental state {'Happy': 0.9391085889164629, 'Sad': 0.06089141108353719}\n"
     ]
    }
   ],
   "source": [
    "new_observations = [\"smile\", \"serious\", \"tears\", \"smile\", \"smile\", \"smile\", \"smile\"]\n",
    "\n",
    "posteriors= fwd_bkw(new_observations,\n",
    "                   states,\n",
    "                   start_probability,\n",
    "                   transition_probability,\n",
    "                   emission_probability,\n",
    "                   end_state)\n",
    "\n",
    "for i,p in enumerate(posteriors):\n",
    "    print (\"At step\", i, \"the person is\", new_observations[i],\"and these s are the probabilities of being in mental state\", p)"
   ]
  },
  {
   "cell_type": "code",
   "execution_count": null,
   "metadata": {},
   "outputs": [],
   "source": []
  },
  {
   "cell_type": "code",
   "execution_count": null,
   "metadata": {},
   "outputs": [],
   "source": []
  }
 ],
 "metadata": {
  "kernelspec": {
   "display_name": "Python 3",
   "language": "python",
   "name": "python3"
  },
  "language_info": {
   "codemirror_mode": {
    "name": "ipython",
    "version": 3
   },
   "file_extension": ".py",
   "mimetype": "text/x-python",
   "name": "python",
   "nbconvert_exporter": "python",
   "pygments_lexer": "ipython3",
   "version": "3.5.2"
  }
 },
 "nbformat": 4,
 "nbformat_minor": 2
}
